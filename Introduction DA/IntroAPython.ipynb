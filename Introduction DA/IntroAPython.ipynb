{
 "cells": [
  {
   "cell_type": "markdown",
   "metadata": {},
   "source": [
    "# Introducción a la Programación"
   ]
  },
  {
   "cell_type": "markdown",
   "metadata": {},
   "source": [
    "## Variables y tipos de datos"
   ]
  },
  {
   "cell_type": "markdown",
   "metadata": {},
   "source": [
    "### Cadenas de caracteres"
   ]
  },
  {
   "cell_type": "markdown",
   "metadata": {},
   "source": [
    "Las cadenas de caracteres en Python se especifican utilizando un par de comillas sencillas o un par de comillas dobles, pero no combinarlas entre ellas."
   ]
  },
  {
   "cell_type": "markdown",
   "metadata": {},
   "source": [
    "Podemos utilizar el método print para imprimir en pantalla un valor (numérico, cadena de caracteres, o concatenación que combine varios tipos de valores)."
   ]
  },
  {
   "cell_type": "code",
   "execution_count": 1,
   "metadata": {},
   "outputs": [
    {
     "name": "stdout",
     "output_type": "stream",
     "text": [
      "Hola Mundo 1\n",
      "Hola Mundo 2\n"
     ]
    }
   ],
   "source": [
    "print(\"Hola Mundo 1\")\n",
    "print('Hola Mundo 2')"
   ]
  },
  {
   "cell_type": "markdown",
   "metadata": {},
   "source": [
    "Las variables son espacios de memoria donde se almacenan valores. Son referenciados por nombres (identificadores).\n",
    "\n",
    "Podemos asignar una cadena de caracteres como el valor de una variable que podrá ser utilizada posteriormente utilizando \"=\". \n",
    "El tipo de las variables no se especifica directamente, se infiere dependiendo del valor que se va a asignar.\n",
    "Las cadenas de caracteres se pueden concatenar usando el operador \"+\".\n"
   ]
  },
  {
   "cell_type": "code",
   "execution_count": 2,
   "metadata": {},
   "outputs": [
    {
     "name": "stdout",
     "output_type": "stream",
     "text": [
      "este texto, otro texto\n",
      "Lo vuelvo a imprimir: este texto, otro texto\n"
     ]
    }
   ],
   "source": [
    "texto1 = \"este texto\"\n",
    "texto2 = \"otro texto\"\n",
    "print(texto1 + \", \" + texto2)\n",
    "texto3 = texto1 + \", \" + texto2\n",
    "print(\"Lo vuelvo a imprimir: \" + texto3)"
   ]
  },
  {
   "cell_type": "markdown",
   "metadata": {},
   "source": [
    "Podemos incluir caracteres especiales utilizando un backslash \"\\\"."
   ]
  },
  {
   "cell_type": "code",
   "execution_count": 3,
   "metadata": {},
   "outputs": [
    {
     "name": "stdout",
     "output_type": "stream",
     "text": [
      "texto con comillas \"comillas\"\n"
     ]
    }
   ],
   "source": [
    "print(\"texto con comillas \\\"comillas\\\"\")"
   ]
  },
  {
   "cell_type": "code",
   "execution_count": 4,
   "metadata": {},
   "outputs": [
    {
     "name": "stdout",
     "output_type": "stream",
     "text": [
      "texto en varias lineas\n"
     ]
    }
   ],
   "source": [
    "print(\"texto en \\\n",
    "varias \\\n",
    "lineas\")"
   ]
  },
  {
   "cell_type": "markdown",
   "metadata": {},
   "source": [
    "Podemos repetir varias veces una cadena de caracteres con el caracter de asterisco."
   ]
  },
  {
   "cell_type": "code",
   "execution_count": 5,
   "metadata": {},
   "outputs": [
    {
     "data": {
      "text/plain": [
       "'siriri'"
      ]
     },
     "execution_count": 5,
     "metadata": {},
     "output_type": "execute_result"
    }
   ],
   "source": [
    "\"si\"+(\"ri\"*2)"
   ]
  },
  {
   "cell_type": "markdown",
   "metadata": {},
   "source": [
    "### Números (int, float)\n",
    "\n",
    "Hay dos tipos de datos numéricos en Python: **int** (para números enteros) y **float** (para números con decimales, utilizando el punto y no la coma como separador).\n",
    "El tipo de un número depende de cómo se especifica: si se escribe con o sin punto se determina si se trata de un **int** o de un **float**.\n"
   ]
  },
  {
   "cell_type": "code",
   "execution_count": 6,
   "metadata": {},
   "outputs": [
    {
     "name": "stdout",
     "output_type": "stream",
     "text": [
      "14\n",
      "14.0\n",
      "111111111112\n"
     ]
    }
   ],
   "source": [
    "print (14)\n",
    "print (14.0)\n",
    "print(111111111111+1)"
   ]
  },
  {
   "cell_type": "markdown",
   "metadata": {},
   "source": [
    "Podemos asignar un valor a una variable, para poder utilizarla posteriormente. El tipo de las variables no se especifica directamente, se infiere dependiendo del valor que se va a asignar.\n",
    "La función **type()** permite preguntar el tipo específico de un valor o de una variable."
   ]
  },
  {
   "cell_type": "code",
   "execution_count": 7,
   "metadata": {},
   "outputs": [
    {
     "name": "stdout",
     "output_type": "stream",
     "text": [
      "<class 'int'>\n",
      "<class 'float'>\n",
      "<class 'str'>\n",
      "<class 'int'>\n",
      "<class 'float'>\n",
      "<class 'str'>\n"
     ]
    }
   ],
   "source": [
    "print(type(14))\n",
    "print(type(14.0))\n",
    "print(type(\"una cadena\"))\n",
    "i=89\n",
    "j=89.0\n",
    "cad=\"una cadena\"\n",
    "print(type(i))\n",
    "print(type(j))\n",
    "print(type(cad))"
   ]
  },
  {
   "cell_type": "markdown",
   "metadata": {},
   "source": [
    "Los números tienen los límites siguientes:"
   ]
  },
  {
   "cell_type": "code",
   "execution_count": 8,
   "metadata": {},
   "outputs": [
    {
     "name": "stdout",
     "output_type": "stream",
     "text": [
      "1.79e+308\n",
      "inf\n",
      "-1.79e+308\n",
      "-inf\n"
     ]
    }
   ],
   "source": [
    "#Límite superior\n",
    "print (1.79e308)\n",
    "print (1.8e308)\n",
    "\n",
    "#Límite inferior\n",
    "print (-1.79e308)\n",
    "print (-1.8e308)"
   ]
  },
  {
   "cell_type": "code",
   "execution_count": 9,
   "metadata": {},
   "outputs": [
    {
     "name": "stdout",
     "output_type": "stream",
     "text": [
      "5e-324\n",
      "0.0\n"
     ]
    }
   ],
   "source": [
    "#Límites cercanos a cero\n",
    "print (5e-324)\n",
    "print (2e-324)"
   ]
  },
  {
   "cell_type": "code",
   "execution_count": 10,
   "metadata": {},
   "outputs": [
    {
     "name": "stdout",
     "output_type": "stream",
     "text": [
      "1.2345678901234567\n"
     ]
    }
   ],
   "source": [
    "# Límite en la precisión de los números de punto flotante\n",
    "print (1.2345678901234567890123456789)"
   ]
  },
  {
   "cell_type": "code",
   "execution_count": 11,
   "metadata": {},
   "outputs": [
    {
     "name": "stdout",
     "output_type": "stream",
     "text": [
      "1.2345678901234568e+28\n"
     ]
    }
   ],
   "source": [
    "print (12345678901234567890123456789.0)"
   ]
  },
  {
   "cell_type": "markdown",
   "metadata": {},
   "source": [
    "Se pueden realizar operaciones de suma, resta, multiplicación, etc., conjuntamente con la asignación a una variable en una sola operación."
   ]
  },
  {
   "cell_type": "code",
   "execution_count": 12,
   "metadata": {},
   "outputs": [
    {
     "name": "stdout",
     "output_type": "stream",
     "text": [
      "5\n",
      "6\n",
      "7\n",
      "12\n",
      "36\n",
      "9\n"
     ]
    }
   ],
   "source": [
    "a = 5\n",
    "print (a)\n",
    "a = a + 1\n",
    "print (a)\n",
    "a += 1\n",
    "print (a)\n",
    "a += 5\n",
    "print (a)\n",
    "a *= 3\n",
    "print (a)\n",
    "a //= 4\n",
    "print (a)"
   ]
  },
  {
   "cell_type": "markdown",
   "metadata": {},
   "source": [
    "### Combinación y formateo"
   ]
  },
  {
   "cell_type": "markdown",
   "metadata": {},
   "source": [
    "Podemos transformar valores numéricos a cadenas de caracteres usando la función **str()**.\n",
    "Inversamente, podemos transformar cadenas de caracteres a números utilizando las funciones **int()** y **float()**."
   ]
  },
  {
   "cell_type": "code",
   "execution_count": 13,
   "metadata": {},
   "outputs": [
    {
     "name": "stdout",
     "output_type": "stream",
     "text": [
      "El valor de j es: 89.92836\n"
     ]
    }
   ],
   "source": [
    "j=89.92836\n",
    "print(\"El valor de j es: \"+str(j))"
   ]
  },
  {
   "cell_type": "code",
   "execution_count": 14,
   "metadata": {},
   "outputs": [
    {
     "name": "stdout",
     "output_type": "stream",
     "text": [
      "100.92836\n",
      "100\n"
     ]
    }
   ],
   "source": [
    "print(11 + float(j))\n",
    "print(11 + int(j))"
   ]
  },
  {
   "cell_type": "markdown",
   "metadata": {},
   "source": [
    "Podemos formatear las cadenas utilizando la función **format()**, que remplazará en la cadena de caracteres los valores que se indican entre \"{}\"."
   ]
  },
  {
   "cell_type": "code",
   "execution_count": 15,
   "metadata": {},
   "outputs": [
    {
     "name": "stdout",
     "output_type": "stream",
     "text": [
      "Imprimo un texto directamente: este texto\n",
      "El valor de i es: 12345678901234\n",
      "El valor de j es: 89.92836284478241\n"
     ]
    }
   ],
   "source": [
    "i=12345678901234\n",
    "j=89.928362844782419348\n",
    "print(\"Imprimo un texto directamente: {}\".format(texto1))\n",
    "print(\"El valor de i es: {}\".format(i))\n",
    "print(\"El valor de j es: {}\".format(j))"
   ]
  },
  {
   "cell_type": "markdown",
   "metadata": {},
   "source": [
    "Se puede cambiar el formato de los valores´numéricos utilizando \":\", seguido del número de caracteres a utilizar en la parte decimal después de un caracter \".\",  y de un indicador opcional del tipo de dato que se quiere formatear:\n",
    "- \"d\" para enteros decimales\n",
    "- \"f\" para punto flotante\n",
    "- \"e\" para expresiones con exponentes base 10"
   ]
  },
  {
   "cell_type": "code",
   "execution_count": 16,
   "metadata": {},
   "outputs": [
    {
     "name": "stdout",
     "output_type": "stream",
     "text": [
      "El valor de j con dos decimales es: 12345678901234\n",
      "El valor de j con dos decimales es: 89.93\n",
      "El valor de j con dos decimales es: 89.9284\n",
      "El valor de j con dos decimales es: 8.992836e+01\n",
      "El valor de j con dos decimales es: 9.0e+01\n",
      "El valor de j con dos decimales es: 8.99e+01\n",
      "El valor de j con dos decimales es: 8.9928e+01\n",
      "El valor de j con dos decimales es: 89.9\n",
      "El valor de j con dos decimales es: 89.93\n",
      "El valor de j con dos decimales es: 89.9284\n",
      "El valor de j con dos decimales es: 9e+01\n"
     ]
    }
   ],
   "source": [
    "print(\"El valor de j con dos decimales es: {:d}\".format(i))\n",
    "print(\"El valor de j con dos decimales es: {:.2f}\".format(j))\n",
    "print(\"El valor de j con dos decimales es: {:.4f}\".format(j))\n",
    "print(\"El valor de j con dos decimales es: {:e}\".format(j))\n",
    "print(\"El valor de j con dos decimales es: {:.1e}\".format(j))\n",
    "print(\"El valor de j con dos decimales es: {:.2e}\".format(j))\n",
    "print(\"El valor de j con dos decimales es: {:.4e}\".format(j))\n",
    "print(\"El valor de j con dos decimales es: {:.1f}\".format(j))\n",
    "print(\"El valor de j con dos decimales es: {:.2f}\".format(j))\n",
    "print(\"El valor de j con dos decimales es: {:.4f}\".format(j))\n",
    "print(\"El valor de j con dos decimales es: {:.2}\".format(j))"
   ]
  },
  {
   "cell_type": "markdown",
   "metadata": {},
   "source": [
    "En el caso de impresión literal del valor, se puede obviar el \":\"."
   ]
  },
  {
   "cell_type": "code",
   "execution_count": 17,
   "metadata": {},
   "outputs": [
    {
     "name": "stdout",
     "output_type": "stream",
     "text": [
      "El valor de i es: 12345678901234\n",
      "El valor de j es: 89.92836284478241\n",
      "Imprimo un texto directamente: este texto\n"
     ]
    }
   ],
   "source": [
    "print(\"El valor de i es: {:}\".format(i))\n",
    "print(\"El valor de j es: {:}\".format(j))\n",
    "print(\"Imprimo un texto directamente: {:}\".format(texto1))"
   ]
  },
  {
   "cell_type": "markdown",
   "metadata": {},
   "source": [
    "## Operaciones Aritméticas Básicas\n",
    "Multiplicación, División, Suma, Resta, Potenciación"
   ]
  },
  {
   "cell_type": "code",
   "execution_count": 18,
   "metadata": {},
   "outputs": [
    {
     "name": "stdout",
     "output_type": "stream",
     "text": [
      "5\n",
      "22\n",
      "-23\n"
     ]
    }
   ],
   "source": [
    "print (2 + 3)\n",
    "print (45 - 23)\n",
    "print (-67 + 56 - 12)"
   ]
  },
  {
   "cell_type": "markdown",
   "metadata": {},
   "source": [
    "El símboolo de multiplicación es el asterisco *"
   ]
  },
  {
   "cell_type": "code",
   "execution_count": 19,
   "metadata": {},
   "outputs": [
    {
     "data": {
      "text/plain": [
       "24"
      ]
     },
     "execution_count": 19,
     "metadata": {},
     "output_type": "execute_result"
    }
   ],
   "source": [
    "4 * 6"
   ]
  },
  {
   "cell_type": "markdown",
   "metadata": {},
   "source": [
    "El símbolo de división es el slash"
   ]
  },
  {
   "cell_type": "code",
   "execution_count": 20,
   "metadata": {},
   "outputs": [
    {
     "name": "stdout",
     "output_type": "stream",
     "text": [
      "2.3333333333333335\n",
      "7.0\n"
     ]
    }
   ],
   "source": [
    "print (7 / 3)\n",
    "print (14 / 2)"
   ]
  },
  {
   "cell_type": "markdown",
   "metadata": {},
   "source": [
    "El cociente entero de una división es con doble slash"
   ]
  },
  {
   "cell_type": "code",
   "execution_count": 21,
   "metadata": {},
   "outputs": [
    {
     "name": "stdout",
     "output_type": "stream",
     "text": [
      "2\n"
     ]
    }
   ],
   "source": [
    "print (10 // 4)"
   ]
  },
  {
   "cell_type": "markdown",
   "metadata": {},
   "source": [
    "El símbolo para la obtener el residuo de una división (también llamado módulo) es %"
   ]
  },
  {
   "cell_type": "code",
   "execution_count": 22,
   "metadata": {},
   "outputs": [
    {
     "name": "stdout",
     "output_type": "stream",
     "text": [
      "3\n"
     ]
    }
   ],
   "source": [
    "print (11 % 4)"
   ]
  },
  {
   "cell_type": "code",
   "execution_count": 23,
   "metadata": {},
   "outputs": [
    {
     "name": "stdout",
     "output_type": "stream",
     "text": [
      "2.75\n"
     ]
    }
   ],
   "source": [
    "print (11/4)"
   ]
  },
  {
   "cell_type": "code",
   "execution_count": 24,
   "metadata": {},
   "outputs": [
    {
     "name": "stdout",
     "output_type": "stream",
     "text": [
      "0.75\n"
     ]
    }
   ],
   "source": [
    "print (11/4 - 11//4)"
   ]
  },
  {
   "cell_type": "markdown",
   "metadata": {},
   "source": [
    "La elevación a una potencia se obtiene con el doble asterisco"
   ]
  },
  {
   "cell_type": "code",
   "execution_count": 25,
   "metadata": {},
   "outputs": [
    {
     "name": "stdout",
     "output_type": "stream",
     "text": [
      "8\n",
      "625\n"
     ]
    }
   ],
   "source": [
    "print (2 ** 3)\n",
    "print (5 ** 4)"
   ]
  },
  {
   "cell_type": "markdown",
   "metadata": {},
   "source": [
    "### Booleanos"
   ]
  },
  {
   "cell_type": "markdown",
   "metadata": {},
   "source": [
    "Las variables booleanas son de tipo bool, y adminten dos valores \"True\" y \"False\" (case sensitive)."
   ]
  },
  {
   "cell_type": "code",
   "execution_count": 26,
   "metadata": {},
   "outputs": [
    {
     "name": "stdout",
     "output_type": "stream",
     "text": [
      "<class 'bool'>\n",
      "<class 'bool'>\n",
      "False\n",
      "True\n"
     ]
    }
   ],
   "source": [
    "print(type (False))\n",
    "print(type (True))\n",
    "f = False\n",
    "t = True\n",
    "print(f)\n",
    "print(t)"
   ]
  },
  {
   "cell_type": "markdown",
   "metadata": {},
   "source": [
    "Para asignar un valor a partir de una comparación condicional, se utilizan los operadores \"==\" para evaluar la igualdad y \"!=\" para evaluar la inigualdad."
   ]
  },
  {
   "cell_type": "code",
   "execution_count": 27,
   "metadata": {},
   "outputs": [
    {
     "name": "stdout",
     "output_type": "stream",
     "text": [
      "True\n",
      "False\n"
     ]
    }
   ],
   "source": [
    "t = \"True\" == \"True\"\n",
    "f = \"False\" != \"False\"\n",
    "print(t)\n",
    "print(f)"
   ]
  },
  {
   "cell_type": "markdown",
   "metadata": {},
   "source": [
    "Se pueden realizar operaciones booleanas de NOT con \"not\", OR con \"or\" y de AND con \"and\"."
   ]
  },
  {
   "cell_type": "code",
   "execution_count": 28,
   "metadata": {},
   "outputs": [
    {
     "name": "stdout",
     "output_type": "stream",
     "text": [
      "True\n",
      "False\n"
     ]
    }
   ],
   "source": [
    "caminar = True\n",
    "comer = True\n",
    "print(caminar or comer)\n",
    "print(not (caminar and comer))"
   ]
  },
  {
   "cell_type": "markdown",
   "metadata": {},
   "source": [
    "Se pueden comparar valores numéricos con los operadores <, >m <=, >="
   ]
  },
  {
   "cell_type": "code",
   "execution_count": 29,
   "metadata": {},
   "outputs": [
    {
     "name": "stdout",
     "output_type": "stream",
     "text": [
      "True\n"
     ]
    }
   ],
   "source": [
    "print (5==5.0 and 4>1)"
   ]
  },
  {
   "cell_type": "code",
   "execution_count": 2,
   "metadata": {},
   "outputs": [
    {
     "ename": "SyntaxError",
     "evalue": "invalid syntax (<ipython-input-2-f6663217e392>, line 5)",
     "output_type": "error",
     "traceback": [
      "\u001b[0;36m  File \u001b[0;32m\"<ipython-input-2-f6663217e392>\"\u001b[0;36m, line \u001b[0;32m5\u001b[0m\n\u001b[0;31m    print (a>b or !(b<c))\u001b[0m\n\u001b[0m                  ^\u001b[0m\n\u001b[0;31mSyntaxError\u001b[0m\u001b[0;31m:\u001b[0m invalid syntax\n"
     ]
    }
   ],
   "source": [
    "a = 1\n",
    "b = 2\n",
    "c = 3\n",
    "print (a>b or not(b<c))\n",
    "\n",
    "print (c>b and (a+b<c or b+c>a))\n",
    "print ((a*2>=b or c//2<b) and b*c<a**c)"
   ]
  },
  {
   "cell_type": "markdown",
   "metadata": {},
   "source": [
    "## Otras funciones útiles"
   ]
  },
  {
   "cell_type": "code",
   "execution_count": 31,
   "metadata": {},
   "outputs": [
    {
     "name": "stdout",
     "output_type": "stream",
     "text": [
      "4\n",
      "1.78\n"
     ]
    }
   ],
   "source": [
    "d = abs(-4)\n",
    "print (d)\n",
    "g = abs(-1.78)\n",
    "print (g)"
   ]
  },
  {
   "cell_type": "code",
   "execution_count": 32,
   "metadata": {},
   "outputs": [
    {
     "data": {
      "text/plain": [
       "7"
      ]
     },
     "execution_count": 32,
     "metadata": {},
     "output_type": "execute_result"
    }
   ],
   "source": [
    "e = max (3, 2, 7, 1)\n",
    "e"
   ]
  },
  {
   "cell_type": "code",
   "execution_count": 33,
   "metadata": {},
   "outputs": [
    {
     "name": "stdout",
     "output_type": "stream",
     "text": [
      "6\n",
      "8\n",
      "3\n",
      "(9+2j)\n"
     ]
    }
   ],
   "source": [
    "print (round(6.4))\n",
    "print (round(8.5))\n",
    "print (round(2.51))\n",
    "\n",
    "cp = complex(9,2)\n",
    "print (cp)"
   ]
  },
  {
   "cell_type": "code",
   "execution_count": 34,
   "metadata": {},
   "outputs": [
    {
     "name": "stdout",
     "output_type": "stream",
     "text": [
      "65\n"
     ]
    }
   ],
   "source": [
    "print (ord(\"A\"))"
   ]
  },
  {
   "cell_type": "code",
   "execution_count": 35,
   "metadata": {},
   "outputs": [
    {
     "name": "stdout",
     "output_type": "stream",
     "text": [
      "<class 'bool'>\n",
      "True\n",
      "True\n"
     ]
    }
   ],
   "source": [
    "print(type (True))\n",
    "t = bool(\"1\")\n",
    "f = bool(\"0\")\n",
    "print(t)\n",
    "print(f)"
   ]
  },
  {
   "cell_type": "code",
   "execution_count": 36,
   "metadata": {},
   "outputs": [
    {
     "name": "stdout",
     "output_type": "stream",
     "text": [
      "False\n",
      "False\n"
     ]
    },
    {
     "data": {
      "text/plain": [
       "False"
      ]
     },
     "execution_count": 36,
     "metadata": {},
     "output_type": "execute_result"
    }
   ],
   "source": [
    "print (bool (\"\"))\n",
    "print (False)\n",
    "bool (0) "
   ]
  },
  {
   "cell_type": "code",
   "execution_count": 37,
   "metadata": {},
   "outputs": [
    {
     "name": "stdout",
     "output_type": "stream",
     "text": [
      "9\n",
      "20\n",
      "32\n"
     ]
    }
   ],
   "source": [
    "print(len(\"muy corta\"))\n",
    "print(len(\"esta cadena es corta\"))\n",
    "print(len(\"esta cadena es un poco mas larga\"))"
   ]
  },
  {
   "cell_type": "code",
   "execution_count": 38,
   "metadata": {},
   "outputs": [
    {
     "name": "stdout",
     "output_type": "stream",
     "text": [
      "Digite un número5\n",
      "el valor es:  5\n",
      "<class 'str'>\n",
      "5\n",
      "<class 'int'>\n"
     ]
    }
   ],
   "source": [
    "variable = input(\"Digite un número\")\n",
    "print (\"el valor es: \",variable)\n",
    "print (type(variable))\n",
    "x = int(variable)\n",
    "print (x)\n",
    "print (type(x))"
   ]
  },
  {
   "cell_type": "markdown",
   "metadata": {},
   "source": [
    "# Estructuras de Control Condicionales"
   ]
  },
  {
   "cell_type": "markdown",
   "metadata": {},
   "source": [
    "En Python es muy importante la indentación, tanto en los condicionales como en los ciclos, se definen bloques indentados después de un caracter \":\""
   ]
  },
  {
   "cell_type": "markdown",
   "metadata": {},
   "source": [
    "## If"
   ]
  },
  {
   "cell_type": "code",
   "execution_count": 39,
   "metadata": {},
   "outputs": [],
   "source": [
    "edad = 34\n",
    "if edad < 18:\n",
    "    print (\"Es menor de edad\")"
   ]
  },
  {
   "cell_type": "code",
   "execution_count": 40,
   "metadata": {},
   "outputs": [
    {
     "name": "stdout",
     "output_type": "stream",
     "text": [
      "Nombre muy largo!\n"
     ]
    }
   ],
   "source": [
    "nombre = \"Juan de la Encarnación\"\n",
    "if len(nombre) > 15:\n",
    "    print (\"Nombre muy largo!\")\n"
   ]
  },
  {
   "cell_type": "markdown",
   "metadata": {},
   "source": [
    "## Else"
   ]
  },
  {
   "cell_type": "code",
   "execution_count": 41,
   "metadata": {},
   "outputs": [
    {
     "name": "stdout",
     "output_type": "stream",
     "text": [
      "Digite la edad: 5\n",
      "Estas en el bloque de código del if\n",
      "Es menor de edad\n"
     ]
    }
   ],
   "source": [
    "edad = int(input(\"Digite la edad: \"))\n",
    "if edad < 18:\n",
    "    print (\"Estas en el bloque de código del if\")\n",
    "    print (\"Es menor de edad\")\n",
    "else:\n",
    "    print (\"Estas en el bloque de código del else\")\n",
    "    print (\"Es mayor de edad\")"
   ]
  },
  {
   "cell_type": "code",
   "execution_count": 42,
   "metadata": {},
   "outputs": [
    {
     "name": "stdout",
     "output_type": "stream",
     "text": [
      "Digite la hora: 5\n",
      "encender luces\n"
     ]
    }
   ],
   "source": [
    "hora = int(input(\"Digite la hora: \"))\n",
    "if hora>=18 or hora<=6:\n",
    "    print (\"encender luces\")\n",
    "else:\n",
    "    print (\"apagar luces\")\n"
   ]
  },
  {
   "cell_type": "code",
   "execution_count": 43,
   "metadata": {},
   "outputs": [
    {
     "name": "stdout",
     "output_type": "stream",
     "text": [
      "Digite la edad: 5\n",
      "Niño\n"
     ]
    }
   ],
   "source": [
    "edad = int(input(\"Digite la edad: \"))\n",
    "if edad < 2:\n",
    "    print (\"Bebé\")\n",
    "else:\n",
    "    if edad < 12:\n",
    "        print (\"Niño\")\n",
    "    else:\n",
    "        if edad <18:\n",
    "            print (\"Adolescente\")\n",
    "        else:\n",
    "            print (\"Adulto\")\n"
   ]
  },
  {
   "cell_type": "markdown",
   "metadata": {},
   "source": [
    "## Elif"
   ]
  },
  {
   "cell_type": "code",
   "execution_count": 44,
   "metadata": {},
   "outputs": [
    {
     "name": "stdout",
     "output_type": "stream",
     "text": [
      "Digite la edad: 5\n",
      "Niño\n"
     ]
    }
   ],
   "source": [
    "edad = int(input(\"Digite la edad: \"))\n",
    "if edad < 2:\n",
    "    print (\"Bebé\")\n",
    "elif edad < 12:\n",
    "    print (\"Niño\")\n",
    "elif edad <18:\n",
    "    print (\"Adolescente\")\n",
    "else:\n",
    "    print (\"Adulto\")\n"
   ]
  },
  {
   "cell_type": "markdown",
   "metadata": {},
   "source": [
    "# Ejercicio: Largo de un nombre"
   ]
  },
  {
   "cell_type": "markdown",
   "metadata": {},
   "source": [
    "Escriba un programa que dados tres nombres, imprima el nombre mas corto y el mas largo de la siguiente forma:\n",
    "\n",
    "El nombre mas corto es XXXXX\n",
    "\n",
    "El nombre mas largo es HHHH"
   ]
  },
  {
   "cell_type": "code",
   "execution_count": 1,
   "metadata": {},
   "outputs": [
    {
     "name": "stdout",
     "output_type": "stream",
     "text": [
      "El nombre más largo es: juan daniel\n",
      "El nombre más corto es: laura\n"
     ]
    }
   ],
   "source": [
    "\n",
    "def calculate_name_lenghts(names):\n",
    "    max = 0\n",
    "    min = 1000\n",
    "    max_name = \"\"\n",
    "    min_name = \"\"\n",
    "    for name in names:\n",
    "        lenght = len(name)\n",
    "        if max < lenght:\n",
    "            max_name = name\n",
    "            max = lenght\n",
    "        if min > lenght:\n",
    "            min_name = name\n",
    "            min = lenght\n",
    "\n",
    "    print(\"El nombre más largo es: %s\" %(max_name))\n",
    "    print(\"El nombre más corto es: %s\"%(min_name))\n",
    "   \n",
    "        \n",
    "calculate_name_lenghts([\"laura\", \"camilo\", \"juan daniel\"])"
   ]
  },
  {
   "cell_type": "markdown",
   "metadata": {},
   "source": [
    "def "
   ]
  },
  {
   "cell_type": "markdown",
   "metadata": {},
   "source": [
    "..."
   ]
  },
  {
   "cell_type": "markdown",
   "metadata": {},
   "source": [
    "# Ejercicio: residuo par"
   ]
  },
  {
   "cell_type": "markdown",
   "metadata": {},
   "source": [
    "Cree un programa para determinar si la parte entera del residuo de la división de dos números es par o impar"
   ]
  },
  {
   "cell_type": "markdown",
   "metadata": {},
   "source": [
    "..."
   ]
  },
  {
   "cell_type": "code",
   "execution_count": 5,
   "metadata": {},
   "outputs": [
    {
     "name": "stdout",
     "output_type": "stream",
     "text": [
      "La parte entera del residuo entre 10 y 2 es par.\n",
      "La parte entera del residuo entre 5 y 10 es impar.\n",
      "La parte entera del residuo entre 9 y 2 es impar.\n"
     ]
    }
   ],
   "source": [
    "def is_remainder_odd_or_even(dividend, divisor):\n",
    "    mod = int(dividend % divisor)\n",
    "    if mod % 2 == 0:\n",
    "        result = \"par\"\n",
    "    else:\n",
    "        result = \"impar\"\n",
    "    print(\"La parte entera del residuo entre %s y %s es %s.\"%(str(dividend), str(divisor), result))\n",
    "        \n",
    "is_remainder_odd_or_even(10,2)\n",
    "is_remainder_odd_or_even(5,10)\n",
    "is_remainder_odd_or_even(9,2)"
   ]
  },
  {
   "cell_type": "markdown",
   "metadata": {},
   "source": [
    "..."
   ]
  },
  {
   "cell_type": "markdown",
   "metadata": {},
   "source": [
    "# Ejercicio: áreas de figuras"
   ]
  },
  {
   "cell_type": "markdown",
   "metadata": {},
   "source": [
    "Escriba un programa que imprima un menú de opciones y le pregunte al usuario cuál opción desea. Las opciones del menú son (1) calcular el área de un rectángulo, (2) calcular el perímetro de un triángulo y (3) calcular el área de una circunferencia."
   ]
  },
  {
   "cell_type": "markdown",
   "metadata": {},
   "source": [
    "..."
   ]
  },
  {
   "cell_type": "code",
   "execution_count": 16,
   "metadata": {},
   "outputs": [
    {
     "name": "stdout",
     "output_type": "stream",
     "text": [
      "MENÙ\n",
      "1 para calcular el área de un rectángulo\n",
      "2 para calcular el perímetro e un triángulo\n",
      "3 para calcular el área de una circunferencia\n",
      "Ecoja una opciòn3\n",
      "Radio de la circunferencia2\n",
      "El área de la circunfencia es: 12.566370614359172\n"
     ]
    }
   ],
   "source": [
    "from math import pi\n",
    "\n",
    "def calculate_rectangle_area():\n",
    "    height = float(input(\"Alto del rectángulo: \"))\n",
    "    width = float(input(\"Ancho del rectángulo: \"))\n",
    "    area = height*width\n",
    "    print(\"El aŕea del rectángulo es: %s\"%(area))\n",
    "    \n",
    "def calculate_triangle_perimeter():\n",
    "    length1 = float(input(\"Largo lado 1: \"))\n",
    "    length2 = float(input(\"Largo lado 2: \"))\n",
    "    length3 = float(input(\"Largo lado 3: \"))\n",
    "    \n",
    "    perimeter = sum([length1, length2, length3])\n",
    "    \n",
    "    print(\"El perímetro del triángulo es: %s\"%(perimeter))\n",
    "\n",
    "\n",
    "def calculate_circle_area():\n",
    "    radius = float(input(\"Radio de la circunferencia: \"))\n",
    "    area = (pi * radius**2)\n",
    "    print(\"El área de la circunfencia es: %s\"%(str(area)))\n",
    "    \n",
    "def execute_option(option):\n",
    "    if option == 1:\n",
    "        calculate_rectangle_area()\n",
    "    elif option == 2:\n",
    "        calculate_triangle_perimeter()\n",
    "    elif option == 3:\n",
    "        calculate_circle_area()\n",
    "    else:\n",
    "        print(\"La opción no es válida\")\n",
    "\n",
    "def main_menu():\n",
    "    print(\"MENÙ\")\n",
    "    print(\"1 para calcular el área de un rectángulo\")\n",
    "    print(\"2 para calcular el perímetro e un triángulo\")\n",
    "    print(\"3 para calcular el área de una circunferencia\")\n",
    "    option = int(input(\"Ecoja una opciòn\"))\n",
    "    \n",
    "    execute_option(option)\n",
    "    \n",
    "main_menu()"
   ]
  },
  {
   "cell_type": "markdown",
   "metadata": {},
   "source": [
    "..."
   ]
  },
  {
   "cell_type": "markdown",
   "metadata": {},
   "source": [
    "## Ciclos en Python"
   ]
  },
  {
   "cell_type": "markdown",
   "metadata": {},
   "source": [
    "La cláusula **while** determinan ciclos iterativos de código que se ejecutan mientras se cumpla una condición especificada antes del separador \":\"."
   ]
  },
  {
   "cell_type": "code",
   "execution_count": 45,
   "metadata": {},
   "outputs": [
    {
     "name": "stdout",
     "output_type": "stream",
     "text": [
      "1\n",
      "2\n",
      "3\n",
      "4\n",
      "5\n",
      "6\n",
      "7\n",
      "8\n",
      "9\n",
      "10\n"
     ]
    }
   ],
   "source": [
    "i = 1\n",
    "while i<=10:\n",
    "    print (str(i))\n",
    "    i = i + 1"
   ]
  },
  {
   "cell_type": "markdown",
   "metadata": {},
   "source": [
    "Se pueden anidar ciclos y condicionales"
   ]
  },
  {
   "cell_type": "code",
   "execution_count": 46,
   "metadata": {
    "scrolled": false
   },
   "outputs": [
    {
     "name": "stdout",
     "output_type": "stream",
     "text": [
      "1. Buenos días!\n",
      "2. Buen provecho con ese desayuno!\n",
      "3. Buenos días!\n",
      "4. Buen provecho con ese desayuno!\n",
      "5. Buenos días!\n",
      "6. Buen provecho con ese desayuno!\n",
      "7. Buenos días!\n",
      "8. Buen provecho con ese desayuno!\n",
      "9. Buenos días!\n",
      "10. Buen provecho con ese desayuno!\n"
     ]
    }
   ],
   "source": [
    "# ciclos utilizando la clausula while\n",
    "i = 1\n",
    "while i<=10:\n",
    "    if i%2==1:\n",
    "        print (str(i)+\". Buenos días!\")\n",
    "    else:\n",
    "        print (str(i)+\". Buen provecho con ese desayuno!\")\n",
    "    i+=1\n"
   ]
  },
  {
   "cell_type": "markdown",
   "metadata": {},
   "source": [
    "Muchas funciones y objetos no se encuentran en el lenguaje Python de base, sino en módulos (librerías) adicionales.\n",
    "Para poder acceder a ellas, es necesario importarlas, ya sea especificando la librería completa (con **import** y una abreviación de la libería especificada con **as**), ya sea la funcionalidad específica (con **from** e **import**)."
   ]
  },
  {
   "cell_type": "markdown",
   "metadata": {},
   "source": [
    "Imprimiendo la hora en Python"
   ]
  },
  {
   "cell_type": "code",
   "execution_count": 47,
   "metadata": {},
   "outputs": [
    {
     "name": "stdout",
     "output_type": "stream",
     "text": [
      "2020-08-20 23:23:03.405197\n"
     ]
    }
   ],
   "source": [
    "import datetime as dt\n",
    "print(dt.datetime.now())"
   ]
  },
  {
   "cell_type": "code",
   "execution_count": 48,
   "metadata": {},
   "outputs": [
    {
     "name": "stdout",
     "output_type": "stream",
     "text": [
      "2020-08-20 23:23:03.408862\n"
     ]
    }
   ],
   "source": [
    "from datetime import datetime\n",
    "print(datetime.now())"
   ]
  },
  {
   "cell_type": "code",
   "execution_count": 49,
   "metadata": {},
   "outputs": [
    {
     "name": "stdout",
     "output_type": "stream",
     "text": [
      "\n",
      "    Menú de opciones\n",
      "    1. Hora actual\n",
      "    2. Salir\n",
      "    Digite la opción:1\n",
      "La fecha y hora actual es: 2020-08-20 23:23:05.749185\n",
      "\n",
      "    Menú de opciones\n",
      "    1. Hora actual\n",
      "    2. Salir\n",
      "    Digite la opción:2\n"
     ]
    }
   ],
   "source": [
    "from datetime import datetime\n",
    "opcion = 0\n",
    "while opcion != 2:\n",
    "    menuHora = '''\n",
    "    Menú de opciones\n",
    "    1. Hora actual\n",
    "    2. Salir\n",
    "    Digite la opción:'''\n",
    "    opcion = int(input(menuHora))\n",
    "    if opcion==1:\n",
    "        print(\"La fecha y hora actual es: %s\"%(datetime.now()))\n"
   ]
  },
  {
   "cell_type": "code",
   "execution_count": 50,
   "metadata": {},
   "outputs": [
    {
     "name": "stdout",
     "output_type": "stream",
     "text": [
      "Por favor digite la cantidad de lados del polígono: 2\n",
      "No existen polígonos cuya cantidad de lados sea 2\n"
     ]
    }
   ],
   "source": [
    "# version 1.0\n",
    "lados = int(input(\"Por favor digite la cantidad de lados del polígono: \"))\n",
    "\n",
    "if lados>2:\n",
    "    contador = 1\n",
    "    perimetro = 0\n",
    "    while contador <= lados:\n",
    "        longitud = float(input(f\"Por favor digite la longitud del lado {contador}: \"))\n",
    "        perimetro = perimetro + longitud\n",
    "        contador = contador + 1\n",
    "    print(f\"El perímetro del polígono de {lados} lados es {perimetro}\")\n",
    "else:\n",
    "    print(\"No existen polígonos cuya cantidad de lados sea %s\"%lados)"
   ]
  },
  {
   "cell_type": "code",
   "execution_count": 51,
   "metadata": {
    "scrolled": true
   },
   "outputs": [
    {
     "name": "stdout",
     "output_type": "stream",
     "text": [
      "Por favor digite la cantidad de lados del polígono: 2\n",
      "No existen polígonos cuya cantidad de lados sea 2\n",
      "Desea seguir intentándolo?\n",
      "Digite 1 para seguir. Digite 2 para salir: 2\n"
     ]
    }
   ],
   "source": [
    "# version 2.0\n",
    "lados = 0\n",
    "seguir = 1\n",
    "while lados<=2 and seguir==1:\n",
    "    lados = int(input(\"Por favor digite la cantidad de lados del polígono: \"))\n",
    "    if lados<=2:\n",
    "        print(\"No existen polígonos cuya cantidad de lados sea %s\"%lados)\n",
    "        seguir = int(input(\"Desea seguir intentándolo?\\nDigite 1 para seguir. Digite 2 para salir: \"))\n",
    "\n",
    "if seguir==1:\n",
    "    contador = 1\n",
    "    perimetro = 0\n",
    "    while contador <= lados:\n",
    "        longitud = float(input(f\"Por favor digite la longitud del lado {contador}: \"))\n",
    "        perimetro = perimetro + longitud\n",
    "        contador = contador + 1\n",
    "    print(f\"El perímetro del polígono de {lados} lados es {perimetro}\")"
   ]
  },
  {
   "cell_type": "markdown",
   "metadata": {},
   "source": [
    "También existen ciclos con la cláusula **for**, en donde se puede especificar un estructura sobre la cual iterar."
   ]
  },
  {
   "cell_type": "code",
   "execution_count": 52,
   "metadata": {},
   "outputs": [
    {
     "name": "stdout",
     "output_type": "stream",
     "text": [
      "Camilo\n",
      "Aura\n",
      "Claudia\n",
      "Daniel\n",
      "Juan\n",
      "Andrea\n"
     ]
    }
   ],
   "source": [
    "personas = [\"Camilo\",\"Aura\",\"Claudia\",\"Daniel\",\"Juan\",\"Andrea\"]\n",
    "for nombre in personas:\n",
    "    print(nombre)"
   ]
  },
  {
   "cell_type": "markdown",
   "metadata": {},
   "source": [
    "La función **range()** se utiliza a menudo conjuntamente con las instrucciones de ciclos para obtener una estructura iterativa  de rango de índices sobre la cual iterar, definida a partir de un valor de comienzo (0 por defecto) y un valor de final (no incluido). Opcionalmente, se puede especificar el paso de salto entre un valor y el siguiente (que puede ser negativo).  "
   ]
  },
  {
   "cell_type": "code",
   "execution_count": 53,
   "metadata": {},
   "outputs": [
    {
     "name": "stdout",
     "output_type": "stream",
     "text": [
      "0 1 2 3 4 5 \n",
      "10 11 12 13 14 \n",
      "1-3-5-7-9-11-13-15-17-19-\n",
      "10/8/6/4/\n",
      "10/8/6/4/\n",
      "10/8/6/4/2/"
     ]
    }
   ],
   "source": [
    "for i in range(6):\n",
    "    print(i,end=\" \") #Se especifica el espacio \" \" para que no salte la línea\n",
    "print(\"\")\n",
    "for i in range(10,15):\n",
    "    print(i,end=\" \")\n",
    "print(\"\")\n",
    "for z in range(1,20,2):\n",
    "    print(z,end=\"-\")\n",
    "print(\"\")\n",
    "for x in range(10,3,-2):\n",
    "    print(x, end=\"/\")\n",
    "print(\"\")\n",
    "for x in range(10,2,-2): # analicen por qué este ciclo y el anterior tienen el mismo resultado\n",
    "    print(x, end=\"/\")\n",
    "print(\"\")\n",
    "for x in range(10,1,-2):\n",
    "    print(x, end=\"/\")"
   ]
  },
  {
   "cell_type": "code",
   "execution_count": 54,
   "metadata": {},
   "outputs": [
    {
     "name": "stdout",
     "output_type": "stream",
     "text": [
      "1 Camilo\n",
      "2 Aura\n",
      "3 Claudia\n",
      "4 Daniel\n",
      "5 Juan\n",
      "6 Andrea\n"
     ]
    }
   ],
   "source": [
    "for i in range(len(personas)):\n",
    "    print(i+1,personas[i])"
   ]
  },
  {
   "cell_type": "markdown",
   "metadata": {},
   "source": [
    "Una cadena de caracteres se puede utilizar como estructura de base sobre la cual iterar"
   ]
  },
  {
   "cell_type": "code",
   "execution_count": 55,
   "metadata": {},
   "outputs": [
    {
     "name": "stdout",
     "output_type": "stream",
     "text": [
      "Digite un nombre: aaa\n",
      "a,a,a,"
     ]
    }
   ],
   "source": [
    "nombre = input(\"Digite un nombre: \")\n",
    "for c in nombre:\n",
    "    print(c,end=\",\")"
   ]
  },
  {
   "cell_type": "markdown",
   "metadata": {},
   "source": [
    "# Listas"
   ]
  },
  {
   "cell_type": "markdown",
   "metadata": {},
   "source": [
    "Las listas en Python se definen con los corchetes \"\\[\" y \"\\]\". Se trata de conjuntos de valores que no necesariamente tienen el mismo tipo "
   ]
  },
  {
   "cell_type": "code",
   "execution_count": 56,
   "metadata": {},
   "outputs": [],
   "source": [
    "l1 = [9, \"cadena\", 8.4]"
   ]
  },
  {
   "cell_type": "code",
   "execution_count": 57,
   "metadata": {},
   "outputs": [
    {
     "name": "stdout",
     "output_type": "stream",
     "text": [
      "[9, 'cadena', 8.4]\n"
     ]
    }
   ],
   "source": [
    "print(l1)"
   ]
  },
  {
   "cell_type": "markdown",
   "metadata": {},
   "source": [
    "Se puede acceder a cada miembro de una lista indexando, empezando en 0."
   ]
  },
  {
   "cell_type": "code",
   "execution_count": 58,
   "metadata": {},
   "outputs": [
    {
     "name": "stdout",
     "output_type": "stream",
     "text": [
      "16\n",
      "1\n"
     ]
    }
   ],
   "source": [
    "cuadrados = [1, 4, 9, 16, 25]\n",
    "print(cuadrados[3])\n",
    "print(cuadrados[0])"
   ]
  },
  {
   "cell_type": "markdown",
   "metadata": {},
   "source": [
    "Se permiten índices negativos, empezando en -1."
   ]
  },
  {
   "cell_type": "code",
   "execution_count": 59,
   "metadata": {},
   "outputs": [
    {
     "name": "stdout",
     "output_type": "stream",
     "text": [
      "25\n",
      "16\n",
      "1\n"
     ]
    }
   ],
   "source": [
    "print(cuadrados[-1])\n",
    "print(cuadrados[-2])\n",
    "print(cuadrados[-5])"
   ]
  },
  {
   "cell_type": "markdown",
   "metadata": {},
   "source": [
    "Se puede hacer \"slicing\" con un rango de posiciones, utilizando el operador \":\", especificando el índice del comienzo (incluido) y el del final (no incluido)"
   ]
  },
  {
   "cell_type": "code",
   "execution_count": 60,
   "metadata": {},
   "outputs": [
    {
     "name": "stdout",
     "output_type": "stream",
     "text": [
      "[4, 9]\n"
     ]
    }
   ],
   "source": [
    "print(cuadrados[1:3])"
   ]
  },
  {
   "cell_type": "markdown",
   "metadata": {},
   "source": [
    "Si no se especifica el comienzo (o final) del rango, se asume que se trata desde el primer elemento (o último elemento). "
   ]
  },
  {
   "cell_type": "code",
   "execution_count": 61,
   "metadata": {},
   "outputs": [
    {
     "name": "stdout",
     "output_type": "stream",
     "text": [
      "[9, 16, 25]\n"
     ]
    }
   ],
   "source": [
    "print(cuadrados[2:])"
   ]
  },
  {
   "cell_type": "code",
   "execution_count": 62,
   "metadata": {},
   "outputs": [
    {
     "name": "stdout",
     "output_type": "stream",
     "text": [
      "[1, 4, 9, 16]\n"
     ]
    }
   ],
   "source": [
    "print(cuadrados[:4])"
   ]
  },
  {
   "cell_type": "code",
   "execution_count": 63,
   "metadata": {},
   "outputs": [
    {
     "name": "stdout",
     "output_type": "stream",
     "text": [
      "[1, 4, 9, 16, 25]\n"
     ]
    }
   ],
   "source": [
    "print(cuadrados[:])"
   ]
  },
  {
   "cell_type": "markdown",
   "metadata": {},
   "source": [
    "Con el operador \"+\", se concatenan las listas"
   ]
  },
  {
   "cell_type": "code",
   "execution_count": 64,
   "metadata": {},
   "outputs": [
    {
     "name": "stdout",
     "output_type": "stream",
     "text": [
      "[1, 4, 9, 16, 25, 36, 49, 64, 81]\n"
     ]
    }
   ],
   "source": [
    "cuadrados = cuadrados + [36, 49, 64, 81]\n",
    "print(cuadrados)"
   ]
  },
  {
   "cell_type": "code",
   "execution_count": 65,
   "metadata": {},
   "outputs": [
    {
     "name": "stdout",
     "output_type": "stream",
     "text": [
      "[1, 4, 9, 16, 25, 36, 49, 64, 81, 99, 99]\n",
      "11\n"
     ]
    }
   ],
   "source": [
    "cuadrados = cuadrados + [99,99]\n",
    "print(cuadrados)\n",
    "print(len(cuadrados))"
   ]
  },
  {
   "cell_type": "code",
   "execution_count": 66,
   "metadata": {},
   "outputs": [
    {
     "name": "stdout",
     "output_type": "stream",
     "text": [
      "[1, 4, 9, 16, 25, 36, 49, 64, 81, 100, 121]\n"
     ]
    }
   ],
   "source": [
    "cuadrados[9] = 100\n",
    "cuadrados[10] = 121\n",
    "print(cuadrados)"
   ]
  },
  {
   "cell_type": "markdown",
   "metadata": {},
   "source": [
    "También se puede concatenar con el método **append**."
   ]
  },
  {
   "cell_type": "code",
   "execution_count": 67,
   "metadata": {},
   "outputs": [
    {
     "name": "stdout",
     "output_type": "stream",
     "text": [
      "[1, 4, 9, 16, 25, 36, 49, 64, 81, 100, 121, 144]\n"
     ]
    }
   ],
   "source": [
    "cuadrados.append(144)\n",
    "print(cuadrados)"
   ]
  },
  {
   "cell_type": "markdown",
   "metadata": {},
   "source": [
    "Se pueden utilizar las listas como objeto de iteración"
   ]
  },
  {
   "cell_type": "code",
   "execution_count": 68,
   "metadata": {},
   "outputs": [
    {
     "name": "stdout",
     "output_type": "stream",
     "text": [
      "1--4--9--16--25--36--49--64--81--100--121--144--"
     ]
    }
   ],
   "source": [
    "for i in cuadrados:\n",
    "    print(i, end=\"--\")"
   ]
  },
  {
   "cell_type": "markdown",
   "metadata": {},
   "source": [
    "Se pueden modificar los elementos de una lista con asignación normal, usando rangos.\n",
    "\n",
    "Se pueden incluir listas dentro de listas, y utilizar múltiple indexación para acceder a los contenidos. No hay restricciones con respecto a la dimensionalidad de las listas compuestas (como si lo habría en una matriz)."
   ]
  },
  {
   "cell_type": "code",
   "execution_count": 69,
   "metadata": {},
   "outputs": [
    {
     "name": "stdout",
     "output_type": "stream",
     "text": [
      "['a', 'b', 'c', 'd', 'e', 'f', 'g']\n",
      "['a', 'b', 'C', 'D', 'F', 'f', 'g']\n",
      "['f']\n",
      "['f', 'g']\n",
      "[['x', 'y', 'z'], 'b', 'C', 'D', 'F', 'f', 'g']\n",
      "z\n"
     ]
    }
   ],
   "source": [
    "letras = ['a','b','c','d','e','f','g']\n",
    "print(letras)\n",
    "letras[2:5] = ['C','D','F']\n",
    "print(letras)\n",
    "print(letras[-2:-1])\n",
    "print(letras[-2:])\n",
    "letras[0:1] = [['x', 'y', 'z']]\n",
    "print(letras)\n",
    "print(letras[0][2])"
   ]
  },
  {
   "cell_type": "code",
   "execution_count": 70,
   "metadata": {},
   "outputs": [
    {
     "name": "stdout",
     "output_type": "stream",
     "text": [
      "range(4, 15, 2)\n",
      "[4, 6, 8, 10, 12, 14]\n",
      "[100, 250, 400, 550, 700, 850, 1000, 1150, 1300, 1450, 1600, 1750, 1900, 2050, 2200, 2350, 2500, 2650, 2800, 2950]\n"
     ]
    }
   ],
   "source": [
    "r = range(4,15,2)\n",
    "print(r)\n",
    "lr = list(r)\n",
    "print(lr)\n",
    "print(list(range(100,3000,150)))"
   ]
  },
  {
   "cell_type": "markdown",
   "metadata": {},
   "source": [
    "Se puede utilizar el operador **in** para evaluar si un elemento es parte o no de una lista."
   ]
  },
  {
   "cell_type": "code",
   "execution_count": 71,
   "metadata": {},
   "outputs": [
    {
     "data": {
      "text/plain": [
       "False"
      ]
     },
     "execution_count": 71,
     "metadata": {},
     "output_type": "execute_result"
    }
   ],
   "source": [
    "lista = [2,3,4]\n",
    "i = 5 in lista\n",
    "i"
   ]
  },
  {
   "cell_type": "markdown",
   "metadata": {},
   "source": [
    "Las cadenas de caracteres se pueden tratar como listas."
   ]
  },
  {
   "cell_type": "code",
   "execution_count": 72,
   "metadata": {},
   "outputs": [
    {
     "name": "stdout",
     "output_type": "stream",
     "text": [
      "Hola a todo\n"
     ]
    }
   ],
   "source": [
    "cadena = \"Hola a todos\"\n",
    "print(cadena[:-1])"
   ]
  },
  {
   "cell_type": "code",
   "execution_count": 73,
   "metadata": {},
   "outputs": [
    {
     "name": "stdout",
     "output_type": "stream",
     "text": [
      "P\n"
     ]
    },
    {
     "ename": "TypeError",
     "evalue": "'str' object does not support item assignment",
     "output_type": "error",
     "traceback": [
      "\u001b[0;31m---------------------------------------------------------------------------\u001b[0m",
      "\u001b[0;31mTypeError\u001b[0m                                 Traceback (most recent call last)",
      "\u001b[0;32m<ipython-input-73-f86ae40b4fa1>\u001b[0m in \u001b[0;36m<module>\u001b[0;34m\u001b[0m\n\u001b[1;32m      3\u001b[0m \u001b[0;34m\u001b[0m\u001b[0m\n\u001b[1;32m      4\u001b[0m \u001b[0;31m#las cadenas de caracteres son inmutables (no se pueden modificar):\u001b[0m\u001b[0;34m\u001b[0m\u001b[0;34m\u001b[0m\u001b[0;34m\u001b[0m\u001b[0m\n\u001b[0;32m----> 5\u001b[0;31m \u001b[0mfrase\u001b[0m\u001b[0;34m[\u001b[0m\u001b[0;36m0\u001b[0m\u001b[0;34m]\u001b[0m \u001b[0;34m=\u001b[0m \u001b[0;34m\"p\"\u001b[0m\u001b[0;34m\u001b[0m\u001b[0;34m\u001b[0m\u001b[0m\n\u001b[0m",
      "\u001b[0;31mTypeError\u001b[0m: 'str' object does not support item assignment"
     ]
    }
   ],
   "source": [
    "frase = \"Python nació en 1991\"\n",
    "print(frase[0])\n",
    "\n",
    "#las cadenas de caracteres son inmutables (no se pueden modificar):\n",
    "frase[0] = \"p\""
   ]
  },
  {
   "cell_type": "markdown",
   "metadata": {},
   "source": [
    "Existen operaciones como **lower()** y **upper()** que reciben cadenas como entrada y producen nuevas cadenas con el contenido transformado. "
   ]
  },
  {
   "cell_type": "code",
   "execution_count": null,
   "metadata": {},
   "outputs": [],
   "source": [
    "frase1 = \"Python nació en 1991\"\n",
    "frase2 = frase1.lower()\n",
    "frase3 = frase1.upper()\n",
    "\n",
    "print(frase1)\n",
    "print(frase2)\n",
    "print(frase3)"
   ]
  },
  {
   "cell_type": "markdown",
   "metadata": {},
   "source": [
    "# Ejercicio: conteo sobre listas"
   ]
  },
  {
   "cell_type": "markdown",
   "metadata": {},
   "source": [
    "Escriba un programa que permita leer n números enteros, luego lea un (1) número y diga cuántas veces se encuentra en el listado inicial"
   ]
  },
  {
   "cell_type": "markdown",
   "metadata": {},
   "source": [
    "..."
   ]
  },
  {
   "cell_type": "code",
   "execution_count": 23,
   "metadata": {},
   "outputs": [
    {
     "name": "stdout",
     "output_type": "stream",
     "text": [
      "Tamaño de la lista: 5\n",
      "1\n",
      "Ingrese un número entero para la lista: 2\n",
      "2\n",
      "Ingrese un número entero para la lista: 2\n",
      "3\n",
      "Ingrese un número entero para la lista: 2\n",
      "4\n",
      "Ingrese un número entero para la lista: 4\n",
      "5\n",
      "Ingrese un número entero para la lista: 4\n",
      "Lista completa. Ahora ingrese el número que desea contar en la lista\n",
      "Número: 4\n",
      "El número 4 se encuentra 2 veces en la lista ingerada\n",
      "[2, 2, 2, 4, 4]\n"
     ]
    }
   ],
   "source": [
    "numbers = []\n",
    "def read_list():\n",
    "    n = int(input(\"Tamaño de la lista: \"))\n",
    "    i = 1\n",
    "    while i<=n:\n",
    "        print(str(i))\n",
    "        number = int(input(\"Ingrese un número entero para la lista: \"))\n",
    "        numbers.append(number)\n",
    "        i+=1\n",
    "    print(\"Lista completa. Ahora ingrese el número que desea contar en la lista\")\n",
    "    rep = int(input(\"Número: \"))\n",
    "    \n",
    "    count = numbers.count(rep)\n",
    "    \n",
    "    print(\"El número %s se encuentra %s veces en la lista ingerada\"%(str(rep), str(count)))\n",
    "\n",
    "read_list()"
   ]
  },
  {
   "cell_type": "markdown",
   "metadata": {},
   "source": [
    "### ..."
   ]
  },
  {
   "cell_type": "markdown",
   "metadata": {},
   "source": [
    "# Tuplas"
   ]
  },
  {
   "cell_type": "markdown",
   "metadata": {},
   "source": [
    "Las tuplas son estructuras similares a las listas, permiten agrupar valores de diferentes tipos, pero al contrario de estas últimas, son inmutables.\n",
    "Se definen usualmente utilizando paréntesis en vez de corchetes, aunque en realidad no son obligatorios."
   ]
  },
  {
   "cell_type": "code",
   "execution_count": null,
   "metadata": {},
   "outputs": [],
   "source": [
    "tupla = (34, 56, 11)\n",
    "print(tupla)\n",
    "tupla = 34, 56, 11\n",
    "print(tupla)\n",
    "print(tupla[0])\n",
    "\n",
    "tupla[1] = 74 # Por qué no funciona esta línea?"
   ]
  },
  {
   "cell_type": "code",
   "execution_count": null,
   "metadata": {},
   "outputs": [],
   "source": [
    "persona = (\"Ana\",\"Paz\",35)\n",
    "print(persona)"
   ]
  },
  {
   "cell_type": "markdown",
   "metadata": {},
   "source": [
    "Para definir una tupla de un solo elemento, es necesario especificar la coma separatoria, de lo contrario Python no permite su creación como tupla."
   ]
  },
  {
   "cell_type": "code",
   "execution_count": null,
   "metadata": {},
   "outputs": [],
   "source": [
    "x = (45)\n",
    "print(x)\n",
    "print(type(x))\n",
    "x = (45,)\n",
    "print(x)\n",
    "print(type(x))"
   ]
  },
  {
   "cell_type": "markdown",
   "metadata": {},
   "source": [
    "Se pueden crear tuplas vacías."
   ]
  },
  {
   "cell_type": "code",
   "execution_count": null,
   "metadata": {},
   "outputs": [],
   "source": [
    "z = ()\n",
    "print(z)\n",
    "print(len(z))\n",
    "print(len(x))\n",
    "print(len(tupla))\n",
    "print(len(persona))"
   ]
  },
  {
   "cell_type": "markdown",
   "metadata": {},
   "source": [
    "Los operadores de las listas también aplican a las tuplas."
   ]
  },
  {
   "cell_type": "code",
   "execution_count": null,
   "metadata": {},
   "outputs": [],
   "source": [
    "print(tupla)\n",
    "tupla = tupla + (64, 82, 10)\n",
    "print(tupla)"
   ]
  },
  {
   "cell_type": "markdown",
   "metadata": {},
   "source": [
    "Se pueden tener tuplas de tuplas."
   ]
  },
  {
   "cell_type": "code",
   "execution_count": null,
   "metadata": {},
   "outputs": [],
   "source": [
    "familia = (   \n",
    "    (\"Luis\",\"padre\",\"amarillo\"),\n",
    "    (\"Felipe\",\"hijo\",True),\n",
    "    (\"Doris\",\"prima\",[5,6,7,8],3.1)\n",
    ")\n",
    "print(familia)"
   ]
  },
  {
   "cell_type": "code",
   "execution_count": 3,
   "metadata": {},
   "outputs": [
    {
     "ename": "NameError",
     "evalue": "name 'persona' is not defined",
     "output_type": "error",
     "traceback": [
      "\u001b[0;31m---------------------------------------------------------------------------\u001b[0m",
      "\u001b[0;31mNameError\u001b[0m                                 Traceback (most recent call last)",
      "\u001b[0;32m<ipython-input-3-78aa00d2b908>\u001b[0m in \u001b[0;36m<module>\u001b[0;34m\u001b[0m\n\u001b[0;32m----> 1\u001b[0;31m \u001b[0mprint\u001b[0m\u001b[0;34m(\u001b[0m\u001b[0mpersona\u001b[0m\u001b[0;34m[\u001b[0m\u001b[0;36m1\u001b[0m\u001b[0;34m]\u001b[0m\u001b[0;34m)\u001b[0m\u001b[0;34m;\u001b[0m \u001b[0mprint\u001b[0m\u001b[0;34m(\u001b[0m\u001b[0mfamilia\u001b[0m\u001b[0;34m[\u001b[0m\u001b[0;36m2\u001b[0m\u001b[0;34m]\u001b[0m\u001b[0;34m[\u001b[0m\u001b[0;36m2\u001b[0m\u001b[0;34m]\u001b[0m\u001b[0;34m)\u001b[0m\u001b[0;34m\u001b[0m\u001b[0;34m\u001b[0m\u001b[0m\n\u001b[0m",
      "\u001b[0;31mNameError\u001b[0m: name 'persona' is not defined"
     ]
    }
   ],
   "source": [
    "print(persona[1]); print(familia[2][2])"
   ]
  },
  {
   "cell_type": "code",
   "execution_count": null,
   "metadata": {},
   "outputs": [],
   "source": [
    "gastos = ([150,320,474],[42,86])\n",
    "print (gastos)\n",
    "\n",
    "gastos[0][0] = 210\n",
    "print(gastos)\n",
    "\n",
    "gastos[0].append(872)\n",
    "print(gastos)"
   ]
  },
  {
   "cell_type": "markdown",
   "metadata": {},
   "source": [
    "Las tuplas permiten \"empacar\" y \"desempacar\" grupos de valores.\n",
    "Esto es útil cuando una función devuelve varios valores y permite no tener que utilizar índices específicos o un ciclo para asignarlos a variables de retorno."
   ]
  },
  {
   "cell_type": "code",
   "execution_count": null,
   "metadata": {},
   "outputs": [],
   "source": [
    "x = 1,2,3,4 #packing\n",
    "print(x)\n",
    "a = \"AB\"\n",
    "b = \"CD\"\n",
    "c = \"EF\"\n",
    "z = a,b,c\n",
    "print(z)\n",
    "\n",
    "m,n,o,p = x #unpacking\n",
    "#m = x[0]; n = x[1]; o = x[2]; p = x[3]\n",
    "print(m,n,o,p)\n",
    "\n",
    "lista = ['a','b','c','d','e']\n",
    "print(lista)\n",
    "x1,x2,x3,x4,x5 = lista\n",
    "print(lista)\n",
    "print(x1,x2,x3,x4)\n",
    "tupla_de_lista = (x1,x2,x3,x4)\n",
    "print(tupla_de_lista)"
   ]
  },
  {
   "cell_type": "markdown",
   "metadata": {},
   "source": [
    "# Conjuntos"
   ]
  },
  {
   "cell_type": "markdown",
   "metadata": {},
   "source": [
    "Los conjuntos son como las listas o tuplas, pero no pueden tener elementos repetidos.\n",
    "Además, no tienen un orden definido, por lo que no se puede acceder directamente a los elementos contenidos."
   ]
  },
  {
   "cell_type": "code",
   "execution_count": null,
   "metadata": {},
   "outputs": [],
   "source": [
    "cesta = {\"Limón\",\"Mandarina\",\"Limón\",\"Piña\",\"Piña\",3, 1}\n",
    "print(cesta)"
   ]
  },
  {
   "cell_type": "code",
   "execution_count": null,
   "metadata": {},
   "outputs": [],
   "source": [
    "vacio = {}\n",
    "print(vacio)"
   ]
  },
  {
   "cell_type": "code",
   "execution_count": null,
   "metadata": {},
   "outputs": [],
   "source": [
    "print(\"Piña\" in cesta)\n",
    "print(\"Naranja\" in cesta)"
   ]
  },
  {
   "cell_type": "code",
   "execution_count": null,
   "metadata": {},
   "outputs": [],
   "source": [
    "print(len(cesta))"
   ]
  },
  {
   "cell_type": "code",
   "execution_count": null,
   "metadata": {},
   "outputs": [],
   "source": [
    "letras = set(\"abcdefghijk\")\n",
    "print(letras)"
   ]
  },
  {
   "cell_type": "code",
   "execution_count": null,
   "metadata": {},
   "outputs": [],
   "source": [
    "codigos = set(range(30,98,4))\n",
    "print(codigos)\n",
    "codigos2 = list(range(30,98,4))\n",
    "print(codigos2)"
   ]
  },
  {
   "cell_type": "markdown",
   "metadata": {},
   "source": [
    "Se pueden realizar operaciones de conjuntos, como la intersección con el caracter \"&\", la unión con \"|\", la diferencia con \"-\", XOR con \"^\", evaluar si los elementos de un conjunto están dentro de otro con \">=\" o \"<=\"."
   ]
  },
  {
   "cell_type": "code",
   "execution_count": null,
   "metadata": {},
   "outputs": [],
   "source": [
    "A = set(\"abcdefghi\")\n",
    "B = set(\"acegijklm\")\n",
    "union = A|B\n",
    "print(union)\n",
    "interseccion = A&B\n",
    "print(interseccion)"
   ]
  },
  {
   "cell_type": "code",
   "execution_count": null,
   "metadata": {},
   "outputs": [],
   "source": [
    "print(set([1,2,3])^set([2,4]))\n",
    "xor = A^B\n",
    "print(xor)\n",
    "diferencia = A-B\n",
    "print(A)"
   ]
  },
  {
   "cell_type": "code",
   "execution_count": null,
   "metadata": {},
   "outputs": [],
   "source": [
    "for elem in A:\n",
    "    print(elem,end=\" \")"
   ]
  },
  {
   "cell_type": "markdown",
   "metadata": {},
   "source": [
    "# Diccionarios"
   ]
  },
  {
   "cell_type": "markdown",
   "metadata": {},
   "source": [
    "Los diccionarios son una estructura que agrupa mapeos de llaves con valores.\n",
    "Las llaves pueden ser cualquier tipo de datos inmutable: cadenas de caracteres, números o tuplas que contengan solo cadenas, números o tuplas pueden servir de llaves. "
   ]
  },
  {
   "cell_type": "code",
   "execution_count": null,
   "metadata": {},
   "outputs": [],
   "source": [
    "casa = {\"color\":\"rojo\",\"area\":340}\n",
    "print(casa)\n",
    "print(casa[\"color\"])\n",
    "print(casa[\"area\"])\n",
    "print(list(casa))\n",
    "print(casa.items())\n",
    "print(\"area\" in casa)\n",
    "print(\"precio\" in casa)"
   ]
  },
  {
   "cell_type": "markdown",
   "metadata": {},
   "source": [
    "Los diccionarios se pueden tomar como una estructura iterativa en un ciclo de **for**.\n",
    "Si se hace directamente, se itera sobre las llaves.\n",
    "Se puede iterar al mismo tiempo sobre llave y valor al utilizar su método **items()*."
   ]
  },
  {
   "cell_type": "code",
   "execution_count": null,
   "metadata": {},
   "outputs": [],
   "source": [
    "salud = {\"peso\":62, \"altura\":1.72, \"edad\":28}\n",
    "for llave in salud:\n",
    "    print(llave, \":\", salud[llave], sep=\"\")    \n",
    "print()\n",
    "for llave, valor in salud.items():\n",
    "    print(llave, \":\", salud[llave], sep=\"\")    "
   ]
  },
  {
   "cell_type": "markdown",
   "metadata": {},
   "source": [
    "Se puede definir un diccionario a través de una estructura de lista y tuplas."
   ]
  },
  {
   "cell_type": "code",
   "execution_count": null,
   "metadata": {},
   "outputs": [],
   "source": [
    "producto = dict([(\"nombre\",\"silla\"),(\"precio\",24500.0),(\"cantidad\",12)])\n",
    "print(producto)\n",
    "producto[\"precio\"] = \"$\"+str(producto[\"precio\"])\n",
    "print(producto)"
   ]
  },
  {
   "cell_type": "markdown",
   "metadata": {},
   "source": [
    "# Funciones"
   ]
  },
  {
   "cell_type": "markdown",
   "metadata": {},
   "source": [
    "Se definen funciones con parámetros de entrada y un valor de salida. Este puede ser una tupla, de tal manera que se retornen varios valores a la vez, que pueden ser fácilmente \"desempaquetados\" al retorna del llamado a la función en cuestión."
   ]
  },
  {
   "cell_type": "code",
   "execution_count": null,
   "metadata": {},
   "outputs": [],
   "source": [
    "def suma(x,y):\n",
    "    return x+y\n",
    "\n",
    "z = suma(5,3)\n",
    "print(z)\n",
    "\n",
    "a = suma(\"Hola \",\"Mundo!\")\n",
    "print(a)\n",
    "\n",
    "l = suma([2,7,9],[1,3,6,0])\n",
    "print(l)"
   ]
  },
  {
   "cell_type": "code",
   "execution_count": null,
   "metadata": {},
   "outputs": [],
   "source": [
    "def siguientes2(x):\n",
    "    return (x+1, x+2)\n",
    "\n",
    "a=15\n",
    "(b, c) = siguientes2(a)\n",
    "print(\"los dos números que siguen a {} son: {} y {}\".format(a,b,c))"
   ]
  },
  {
   "cell_type": "markdown",
   "metadata": {},
   "source": [
    "# Ejercicio: Función de Fibonacci"
   ]
  },
  {
   "cell_type": "markdown",
   "metadata": {},
   "source": [
    "Escriba un función que reciba un parámetro *x* y retorne la lista con los primeros *x* dígitos de la serie de Fibonacci"
   ]
  },
  {
   "cell_type": "markdown",
   "metadata": {},
   "source": [
    "..."
   ]
  },
  {
   "cell_type": "code",
   "execution_count": 26,
   "metadata": {},
   "outputs": [
    {
     "name": "stdout",
     "output_type": "stream",
     "text": [
      "Número de digitos de la serie de Fibonacci que desea ver11\n",
      "0\n",
      "1\n",
      "1\n",
      "2\n",
      "3\n",
      "5\n",
      "8\n",
      "13\n",
      "21\n",
      "34\n",
      "55\n"
     ]
    }
   ],
   "source": [
    "def print_fibonacci(x):\n",
    "    i, n1, n2 = 0,0,1\n",
    "    while i < x:\n",
    "        print(n1)\n",
    "        new = n1 + n2\n",
    "        n1 = n2\n",
    "        n2 = new\n",
    "        i += 1\n",
    "\n",
    "x = int(input(\"Número de digitos de la serie de Fibonacci que desea ver\"))\n",
    "print_fibonacci(x)\n",
    "        "
   ]
  },
  {
   "cell_type": "markdown",
   "metadata": {},
   "source": [
    "..."
   ]
  },
  {
   "cell_type": "markdown",
   "metadata": {},
   "source": [
    "# Clases y objetos"
   ]
  },
  {
   "cell_type": "code",
   "execution_count": null,
   "metadata": {},
   "outputs": [],
   "source": [
    "class NumeroRacional:\n",
    "    def __init__(self, p, q):\n",
    "        self.p = p\n",
    "        self.q = q\n",
    "    \n",
    "    def calcularNumeroReal(self):\n",
    "        numero = self.p / self.q\n",
    "        return numero\n",
    "    \n",
    "    def imprimir(self):\n",
    "        print(\"%s/%s\"%(self.p,self.q))\n",
    "\n",
    "x = NumeroRacional(3,8)\n",
    "y = NumeroRacional(1,2)\n",
    "z = NumeroRacional(5,4)\n",
    "\n",
    "print(x.calcularNumeroReal())\n",
    "print(y.calcularNumeroReal())\n",
    "print(z.calcularNumeroReal())\n",
    "\n",
    "print()\n",
    "\n",
    "x.imprimir()\n",
    "y.imprimir()\n",
    "z.imprimir()\n"
   ]
  },
  {
   "cell_type": "code",
   "execution_count": null,
   "metadata": {},
   "outputs": [],
   "source": []
  }
 ],
 "metadata": {
  "kernelspec": {
   "display_name": "Python 3",
   "language": "python",
   "name": "python3"
  },
  "language_info": {
   "codemirror_mode": {
    "name": "ipython",
    "version": 3
   },
   "file_extension": ".py",
   "mimetype": "text/x-python",
   "name": "python",
   "nbconvert_exporter": "python",
   "pygments_lexer": "ipython3",
   "version": "3.8.5"
  }
 },
 "nbformat": 4,
 "nbformat_minor": 2
}

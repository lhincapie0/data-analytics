{
 "cells": [
  {
   "cell_type": "markdown",
   "metadata": {},
   "source": [
    "# Python Exercises, practice  \n",
    "\n",
    "\n",
    "+ __Student 1:__ Laura Hincapié\n",
    "+ __Student 2:__ "
   ]
  },
  {
   "cell_type": "markdown",
   "metadata": {},
   "source": [
    "__1 exercise__\n",
    "\n",
    "print hello world"
   ]
  },
  {
   "cell_type": "code",
   "execution_count": 1,
   "metadata": {},
   "outputs": [
    {
     "name": "stdout",
     "output_type": "stream",
     "text": [
      "hello world\n"
     ]
    }
   ],
   "source": [
    "print(\"hello world\")"
   ]
  },
  {
   "cell_type": "markdown",
   "metadata": {},
   "source": [
    "__2 exercise__\n",
    "\n",
    "Cree una variable con el nombre _variable_ y asignele el valor \"hello word\"."
   ]
  },
  {
   "cell_type": "code",
   "execution_count": 2,
   "metadata": {},
   "outputs": [],
   "source": [
    "variable = \"hello world\""
   ]
  },
  {
   "cell_type": "markdown",
   "metadata": {},
   "source": [
    "__3 exercise__\n",
    "\n",
    "Imprima el tipo de la variable _variable_"
   ]
  },
  {
   "cell_type": "code",
   "execution_count": 3,
   "metadata": {},
   "outputs": [
    {
     "name": "stdout",
     "output_type": "stream",
     "text": [
      "<class 'str'>\n"
     ]
    }
   ],
   "source": [
    "print(type(variable))"
   ]
  },
  {
   "cell_type": "markdown",
   "metadata": {},
   "source": [
    "__4 exercise__\n",
    "\n",
    "Remueva la palabra  \" world\" de _variable_"
   ]
  },
  {
   "cell_type": "code",
   "execution_count": 4,
   "metadata": {},
   "outputs": [
    {
     "data": {
      "text/plain": [
       "'hello'"
      ]
     },
     "execution_count": 4,
     "metadata": {},
     "output_type": "execute_result"
    }
   ],
   "source": [
    "variable.replace(\" world\", \"\")"
   ]
  },
  {
   "cell_type": "markdown",
   "metadata": {},
   "source": [
    "__5 exercise__\n",
    "\n",
    "Cree una función que reciba una lista de números del 1 al 20, del anterior imprima solo aquellos que sean impar."
   ]
  },
  {
   "cell_type": "code",
   "execution_count": 5,
   "metadata": {},
   "outputs": [
    {
     "name": "stdout",
     "output_type": "stream",
     "text": [
      "1\n",
      "3\n",
      "5\n",
      "7\n",
      "9\n",
      "11\n",
      "13\n",
      "15\n",
      "17\n",
      "19\n"
     ]
    }
   ],
   "source": [
    "def print_odds(nums):\n",
    "    for x in nums:\n",
    "        if x%2 != 0:\n",
    "            print(x)\n",
    "            \n",
    "print_odds(range(1,21))"
   ]
  },
  {
   "cell_type": "markdown",
   "metadata": {},
   "source": [
    "__6 exercise__\n",
    "\n",
    "Proponga un método en un **archivo** Python que reciba dos parámetros:\n",
    "\n",
    "+ Una lista de enteros\n",
    "+ Un número que sea un exponente\n",
    "\n",
    "$b^{n} = b \\times \\dots \\times b$  \n",
    "\n",
    "El método debe permitir calcular la exponenciación de cada número de la lista. Para lo anterior debe **importar el archivo** y utilizarlo para llamar al método propuesto en el notebook. \n"
   ]
  },
  {
   "cell_type": "code",
   "execution_count": 6,
   "metadata": {},
   "outputs": [
    {
     "name": "stdout",
     "output_type": "stream",
     "text": [
      "Numbers: [10, 20, 30, 40, 50, 60]\n",
      "Resuls: [100, 400, 900, 1600, 2500, 3600]\n"
     ]
    }
   ],
   "source": [
    "from functions import calculate_power\n",
    "\n",
    "numbers = [10,20,30,40,50,60]\n",
    "power = 2\n",
    "\n",
    "print(\"Numbers: %s\"%(numbers))\n",
    "\n",
    "calculated_powers = calculate_power(numbers, power)\n",
    "\n",
    "print(\"Resuls: %s\"%(calculated_powers))"
   ]
  },
  {
   "cell_type": "markdown",
   "metadata": {},
   "source": [
    "__7 exercise__\n",
    "\n",
    "La idea es crear un diccionario _diccionario_ con las siguientes llaves y valores:\n",
    "\n",
    "+ variableUno: [1,2,3,4]\n",
    "\n",
    "+ variableDos: [\"1\",\"a\",\"?\"]\n"
   ]
  },
  {
   "cell_type": "code",
   "execution_count": 7,
   "metadata": {},
   "outputs": [
    {
     "name": "stdout",
     "output_type": "stream",
     "text": [
      "{1: ['1', 'a', '?'], 2: ['1', 'a', '?'], 3: ['1', 'a', '?'], 4: ['1', 'a', '?']}\n"
     ]
    }
   ],
   "source": [
    "# No entendí bien si el var1 eran las llaves y el var2 los valores\n",
    "dictionary = {}\n",
    "\n",
    "var1 = [1,2,3,4]\n",
    "var2 = [\"1\",\"a\",\"?\"]\n",
    "\n",
    "for x in var1:\n",
    "    dictionary[x] = var2\n",
    "\n",
    "print(dictionary)"
   ]
  },
  {
   "cell_type": "markdown",
   "metadata": {},
   "source": [
    "__8 exercise__\n",
    "\n",
    "Cambie la segunda letra \"Spam\" por una \"z\" "
   ]
  },
  {
   "cell_type": "code",
   "execution_count": 8,
   "metadata": {},
   "outputs": [
    {
     "name": "stdout",
     "output_type": "stream",
     "text": [
      "Szam\n"
     ]
    }
   ],
   "source": [
    "replace_at = 2\n",
    "word = 'Spam'\n",
    "word_modified = word.replace(word[replace_at-1],\"z\")\n",
    "\n",
    "print(word_modified)"
   ]
  },
  {
   "cell_type": "markdown",
   "metadata": {},
   "source": [
    "__9 exercise__\n",
    "\n",
    "Proponga un método que calcule el perímetro de un rectángulo a partir de dos parámetros.\n",
    "\n",
    "$p = 2x + 2y$"
   ]
  },
  {
   "cell_type": "code",
   "execution_count": 9,
   "metadata": {},
   "outputs": [
    {
     "name": "stdout",
     "output_type": "stream",
     "text": [
      "40\n"
     ]
    }
   ],
   "source": [
    "def calculate_perimeter(x, y):\n",
    "    return 2*x + 2*y\n",
    "\n",
    "print(calculate_perimeter(10,10))"
   ]
  },
  {
   "cell_type": "markdown",
   "metadata": {},
   "source": [
    "__10 exercise__\n",
    "\n",
    "+ Desarrolle una clase que persista el nombre de una persona, su altura en metros y su peso en kilogramos.\n",
    "+ Esta clase debe tener una operación que calcule el índice de masa corporal (IMC).\n",
    "+ Defina una lista de 5 personas e imprima su IMC."
   ]
  },
  {
   "cell_type": "code",
   "execution_count": 10,
   "metadata": {},
   "outputs": [
    {
     "name": "stdout",
     "output_type": "stream",
     "text": [
      "Person: Alice, IMC: 24.977043158861342\n",
      "Person: Jhon, IMC: 27.041644131963228\n",
      "Person: Camille, IMC: 21.077195227520797\n",
      "Person: Marko, IMC: 31.48148148148148\n",
      "Person: Sophia, IMC: 22.485207100591715\n"
     ]
    }
   ],
   "source": [
    "class person:\n",
    "    def __init__(self, name, weight, height):\n",
    "        self.name = name\n",
    "        self.weight = weight\n",
    "        self.height = height\n",
    "        \n",
    "    def calculate_imc(self):\n",
    "        return self.weight/(self.height ** 2) \n",
    "\n",
    "persons = []\n",
    "\n",
    "persons.append(person('Alice', 68, 1.65))\n",
    "persons.append(person('Jhon', 80, 1.72))\n",
    "persons.append(person('Camille', 56, 1.63))\n",
    "persons.append(person('Marko', 102, 1.80))\n",
    "persons.append(person('Sophia', 38, 1.30))\n",
    "\n",
    "for person in persons:\n",
    "    imc = str(person.calculate_imc())\n",
    "    print(\"Person: %s, IMC: %s\" %(person.name, imc))"
   ]
  },
  {
   "cell_type": "markdown",
   "metadata": {},
   "source": [
    "__11 exercise__\n",
    "\n",
    "Desarrolle un programa que permita hacer las siguientes actividades:\n",
    "+ Imprima los números del 1 al 100\n",
    "+ Si el número es divisible por 2, imprima \"whiz\"\n",
    "+ Si el número es divisible por 3, imprima \"bang\"\n"
   ]
  },
  {
   "cell_type": "code",
   "execution_count": 11,
   "metadata": {},
   "outputs": [
    {
     "name": "stdout",
     "output_type": "stream",
     "text": [
      "1\n",
      "2\n",
      "whiz\n",
      "3\n",
      "bang\n",
      "4\n",
      "whiz\n",
      "5\n",
      "6\n",
      "whiz\n",
      "bang\n",
      "7\n",
      "8\n",
      "whiz\n",
      "9\n",
      "bang\n",
      "10\n",
      "whiz\n",
      "11\n",
      "12\n",
      "whiz\n",
      "bang\n",
      "13\n",
      "14\n",
      "whiz\n",
      "15\n",
      "bang\n",
      "16\n",
      "whiz\n",
      "17\n",
      "18\n",
      "whiz\n",
      "bang\n",
      "19\n",
      "20\n",
      "whiz\n",
      "21\n",
      "bang\n",
      "22\n",
      "whiz\n",
      "23\n",
      "24\n",
      "whiz\n",
      "bang\n",
      "25\n",
      "26\n",
      "whiz\n",
      "27\n",
      "bang\n",
      "28\n",
      "whiz\n",
      "29\n",
      "30\n",
      "whiz\n",
      "bang\n",
      "31\n",
      "32\n",
      "whiz\n",
      "33\n",
      "bang\n",
      "34\n",
      "whiz\n",
      "35\n",
      "36\n",
      "whiz\n",
      "bang\n",
      "37\n",
      "38\n",
      "whiz\n",
      "39\n",
      "bang\n",
      "40\n",
      "whiz\n",
      "41\n",
      "42\n",
      "whiz\n",
      "bang\n",
      "43\n",
      "44\n",
      "whiz\n",
      "45\n",
      "bang\n",
      "46\n",
      "whiz\n",
      "47\n",
      "48\n",
      "whiz\n",
      "bang\n",
      "49\n",
      "50\n",
      "whiz\n",
      "51\n",
      "bang\n",
      "52\n",
      "whiz\n",
      "53\n",
      "54\n",
      "whiz\n",
      "bang\n",
      "55\n",
      "56\n",
      "whiz\n",
      "57\n",
      "bang\n",
      "58\n",
      "whiz\n",
      "59\n",
      "60\n",
      "whiz\n",
      "bang\n",
      "61\n",
      "62\n",
      "whiz\n",
      "63\n",
      "bang\n",
      "64\n",
      "whiz\n",
      "65\n",
      "66\n",
      "whiz\n",
      "bang\n",
      "67\n",
      "68\n",
      "whiz\n",
      "69\n",
      "bang\n",
      "70\n",
      "whiz\n",
      "71\n",
      "72\n",
      "whiz\n",
      "bang\n",
      "73\n",
      "74\n",
      "whiz\n",
      "75\n",
      "bang\n",
      "76\n",
      "whiz\n",
      "77\n",
      "78\n",
      "whiz\n",
      "bang\n",
      "79\n",
      "80\n",
      "whiz\n",
      "81\n",
      "bang\n",
      "82\n",
      "whiz\n",
      "83\n",
      "84\n",
      "whiz\n",
      "bang\n",
      "85\n",
      "86\n",
      "whiz\n",
      "87\n",
      "bang\n",
      "88\n",
      "whiz\n",
      "89\n",
      "90\n",
      "whiz\n",
      "bang\n",
      "91\n",
      "92\n",
      "whiz\n",
      "93\n",
      "bang\n",
      "94\n",
      "whiz\n",
      "95\n",
      "96\n",
      "whiz\n",
      "bang\n",
      "97\n",
      "98\n",
      "whiz\n",
      "99\n",
      "bang\n",
      "100\n",
      "whiz\n"
     ]
    }
   ],
   "source": [
    "def some_function():\n",
    "    for number in range(1, 101):\n",
    "        print(number)\n",
    "        if number % 2 == 0:\n",
    "            print('whiz')\n",
    "        if number % 3 == 0:\n",
    "            print('bang')\n",
    "\n",
    "some_function()"
   ]
  },
  {
   "cell_type": "code",
   "execution_count": null,
   "metadata": {},
   "outputs": [],
   "source": []
  }
 ],
 "metadata": {
  "kernelspec": {
   "display_name": "Python 3",
   "language": "python",
   "name": "python3"
  },
  "language_info": {
   "codemirror_mode": {
    "name": "ipython",
    "version": 3
   },
   "file_extension": ".py",
   "mimetype": "text/x-python",
   "name": "python",
   "nbconvert_exporter": "python",
   "pygments_lexer": "ipython3",
   "version": "3.8.5"
  }
 },
 "nbformat": 4,
 "nbformat_minor": 2
}
